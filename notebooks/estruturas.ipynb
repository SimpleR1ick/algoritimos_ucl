{
 "cells": [
  {
   "cell_type": "code",
   "execution_count": 2,
   "metadata": {},
   "outputs": [
    {
     "name": "stdout",
     "output_type": "stream",
     "text": [
      "Item removido a lista\n"
     ]
    }
   ],
   "source": [
    "livros = ['Java', 'SQL Server', \"Delphi\", \"Android\"]\n",
    "\n",
    "livro = input(\"Digite o nome do livro: \")\n",
    "\n",
    "if livro in livros:\n",
    "    livros.remove(livro)\n",
    "    print(\"Item removido a lista\")\n",
    "    \n",
    "else:\n",
    "    print(\"O livro não está presente na lista\")"
   ]
  }
 ],
 "metadata": {
  "kernelspec": {
   "display_name": "Python 3",
   "language": "python",
   "name": "python3"
  },
  "language_info": {
   "codemirror_mode": {
    "name": "ipython",
    "version": 3
   },
   "file_extension": ".py",
   "mimetype": "text/x-python",
   "name": "python",
   "nbconvert_exporter": "python",
   "pygments_lexer": "ipython3",
   "version": "3.11.2"
  },
  "orig_nbformat": 4
 },
 "nbformat": 4,
 "nbformat_minor": 2
}
