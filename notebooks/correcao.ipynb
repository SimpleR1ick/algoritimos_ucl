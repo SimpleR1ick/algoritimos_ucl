{
 "cells": [
  {
   "cell_type": "code",
   "execution_count": 8,
   "metadata": {},
   "outputs": [
    {
     "name": "stdout",
     "output_type": "stream",
     "text": [
      "O Rick recebera no total 22560.0\n"
     ]
    }
   ],
   "source": [
    "desconto = 0\n",
    "salario_final = 0\n",
    "\n",
    "nome_professor = input(\"Digite o nome: \").capitalize()\n",
    "possui_vale_transporte = input(\"Vale transporte S/N?\").upper()\n",
    "carga_horaria = int(input(\"Carga horaria semanal: \"))\n",
    "tempo_servico = int(input(\"Tempo de serviço (em meses): \"))\n",
    "maior_titulacao = int(input(\"1 - Graduação 2 - Especialista 3 - Mestre 4 - Doutor\"))\n",
    "\n",
    "# Calculando o valor da hora do professor\n",
    "if maior_titulacao == 1:\n",
    "    valor_hora = 47.0\n",
    "elif maior_titulacao == 2:\n",
    "    valor_hora = 57.0\n",
    "elif maior_titulacao == 3:\n",
    "    valor_hora = 70.0\n",
    "else:\n",
    "    valor_hora = 105.0\n",
    "\n",
    "# Verificando de possui vale transporte\n",
    "if possui_vale_transporte in ('S', 'SIM'):\n",
    "    if maior_titulacao == 1 or maior_titulacao == 2:\n",
    "        desconto = valor_hora = 0.06\n",
    "\n",
    "# Substraindo os descontos \n",
    "valor_hora -= desconto\n",
    "\n",
    "# Calculando aumento por bienio\n",
    "if tempo_servico >= 24:\n",
    "    valor_hora *= 0.05\n",
    "\n",
    "print(f\"O {nome_professor} recebera no total {valor_hora}\")"
   ]
  },
  {
   "cell_type": "code",
   "execution_count": null,
   "metadata": {},
   "outputs": [],
   "source": []
  }
 ],
 "metadata": {
  "kernelspec": {
   "display_name": "Python 3",
   "language": "python",
   "name": "python3"
  },
  "language_info": {
   "codemirror_mode": {
    "name": "ipython",
    "version": 3
   },
   "file_extension": ".py",
   "mimetype": "text/x-python",
   "name": "python",
   "nbconvert_exporter": "python",
   "pygments_lexer": "ipython3",
   "version": "3.11.2"
  },
  "orig_nbformat": 4
 },
 "nbformat": 4,
 "nbformat_minor": 2
}
