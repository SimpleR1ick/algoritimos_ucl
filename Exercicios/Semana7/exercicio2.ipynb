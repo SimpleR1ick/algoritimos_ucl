{
 "cells": [
  {
   "attachments": {},
   "cell_type": "markdown",
   "metadata": {},
   "source": [
    "Faça um programa que guarde em uma lis de 20 posições o nome e a quantidade de filmes locados \n",
    "por seus clientes durante o ano de 2022. \n",
    "\n",
    "- Calcule em um outra lista a quantidade de filmes promocionais que os clientes possuem direito, considere que para cada 10 filmes locados os clientes \n",
    "terão direito uma nova locação. \n",
    "- O Algoritmo deverá apresentar o nome do cliente que ganhou o maior números de locações promocionais \n",
    "- O nome do cliente que ganhou menos locações \n",
    "promocionais"
   ]
  },
  {
   "cell_type": "code",
   "execution_count": null,
   "metadata": {},
   "outputs": [],
   "source": [
    "def calcular_locações_promocionais(clientes):\n",
    "    locações_promocionais = []\n",
    "    \n",
    "    for cliente in clientes:\n",
    "        nome = cliente[0]\n",
    "        quantidade_filmes_locados = cliente[1]\n",
    "        \n",
    "        promocionais = quantidade_filmes_locados // 10\n",
    "        locações_promocionais.append((nome, promocionais))\n",
    "    \n",
    "    return locações_promocionais\n",
    "\n",
    "\n",
    "def main():\n",
    "    clientes = []\n",
    "    \n",
    "    # Preenchendo a lista de clientes\n",
    "    for _ in range(20):\n",
    "        nome = input(\"Digite o nome do cliente: \")\n",
    "        quantidade_filmes = int(input(\"Digite a quantidade de filmes locados por esse cliente em 2022: \"))\n",
    "        clientes.append((nome, quantidade_filmes))\n",
    "    \n",
    "    locações_promocionais = calcular_locações_promocionais(clientes)\n",
    "    \n",
    "    # Encontrando o cliente com o maior e menor número de locações promocionais\n",
    "    cliente_maior = max(locações_promocionais, key=lambda x: x[1])[0]\n",
    "    cliente_menor = min(locações_promocionais, key=lambda x: x[1])[0]\n",
    "    \n",
    "    print(\"Cliente com o maior número de locações promocionais:\", cliente_maior)\n",
    "    print(\"Cliente com o menor número de locações promocionais:\", cliente_menor)\n",
    "\n",
    "\n",
    "if __name__ == \"__main__\":\n",
    "    main()"
   ]
  }
 ],
 "metadata": {
  "kernelspec": {
   "display_name": "venv",
   "language": "python",
   "name": "python3"
  },
  "language_info": {
   "name": "python",
   "version": "3.11.2"
  },
  "orig_nbformat": 4
 },
 "nbformat": 4,
 "nbformat_minor": 2
}
