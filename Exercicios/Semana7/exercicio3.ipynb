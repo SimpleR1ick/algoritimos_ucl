{
 "cells": [
  {
   "attachments": {},
   "cell_type": "markdown",
   "metadata": {},
   "source": [
    "Leia em 4 listas distintas os dados de vários alunos: O nome do aluno, a nota da n1, a nota da n2 e \n",
    "a nota do Exame Semestral. O algoritmo deve:\n",
    "\n",
    "- Calcular em uma 5ª lista a média final do aluno, sabendo que o peso das notas \n",
    "são: N1= 20%, N2= 35% e Exame Semestral= 45%.\n",
    "- Calcular em uma 6ª lista se o aluno está aprovado ou reprovado, sabendo que a \n",
    "média final de aprovação é 5.0.\n",
    "- Permitir que se possa fazer uma pesquisa pelo nome do aluno e retornar dessa \n",
    "pesquisa: o nome do aluno, a sua média final e se o aluno está aprovado ou \n",
    "reprovado.\n",
    "- Retorne: O nome do aluno que apresentou a maior média. Registre também a \n",
    "posição dentro da lista onde se encontra esse aluno.\n",
    "- Retorne: nome do aluno que apresentou a menor média. Registre também a \n",
    "posição dentro da lista onde se encontra esse aluno.\n",
    "- Retorne: A quantidade de alunos aprovados e reprovados.\n",
    "- Retorne: A média geral da turma"
   ]
  },
  {
   "attachments": {},
   "cell_type": "markdown",
   "metadata": {},
   "source": [
    "Variaveis"
   ]
  },
  {
   "cell_type": "code",
   "execution_count": 19,
   "metadata": {},
   "outputs": [],
   "source": [
    "# Lista alunos\n",
    "alunos = list()\n",
    "\n",
    "# Pesos\n",
    "p1 = 0.20\n",
    "p2 = 0.35\n",
    "p3 = 0.45"
   ]
  },
  {
   "attachments": {},
   "cell_type": "markdown",
   "metadata": {},
   "source": [
    "Entrada de dados"
   ]
  },
  {
   "cell_type": "code",
   "execution_count": 20,
   "metadata": {},
   "outputs": [],
   "source": [
    "# Definir quantos alunos vamos cadastra\n",
    "qtd = int(input(\"Quantidade de alunos: \"))\n",
    "\n",
    "# Cadastrando \"qtd\" alunos\n",
    "for i in range(qtd):\n",
    "    # Entrada de dados\n",
    "    nome = input(\"Nome do aluno: \").lower()\n",
    "    n1 = int(input(\"1º Nota: \"))\n",
    "    n2 = int(input(\"2º Nota: \"))\n",
    "    exame = float(input(\"Exame Semestral - Nota: \"))\n",
    "\n",
    "    # Calculando media do aluno\n",
    "    media = ((n1 * p1) + (n2 * p2) + (exame * p3)) / (p1 + p2 + p3)\n",
    "\n",
    "    # Verifica se o aluno foi aprovado\n",
    "    aprovado = (media >= 5)*\"Aprovado\" or \"Reprovado\"\n",
    "\n",
    "    # Adiciona o aluno a lista de alunos\n",
    "    alunos.append([nome, n1, n2, exame, media, aprovado])"
   ]
  },
  {
   "attachments": {},
   "cell_type": "markdown",
   "metadata": {},
   "source": [
    "Pesquisa aluno"
   ]
  },
  {
   "cell_type": "code",
   "execution_count": 21,
   "metadata": {},
   "outputs": [],
   "source": [
    "# Entrada do nome para buscar\n",
    "nome = input(\"Pesquise um aluno por nome: \").lower()\n",
    "\n",
    "# Pescorre a lista e tenta encontrar o aluno\n",
    "for aluno in alunos:\n",
    "    # Se encontrar exibe os seus dados\n",
    "    if aluno[0] == nome.lower():\n",
    "        print(\"Nome:\" ,aluno[0])\n",
    "        print(\"Nota 1: \", aluno[1])\n",
    "        print(\"Nota 2: \", aluno[2])\n",
    "        print(\"Media final: \", aluno[4])\n",
    "        print(\"Status: \", aluno[5])\n",
    "\n",
    "        # Encontrou encerra o loop\n",
    "        break"
   ]
  },
  {
   "attachments": {},
   "cell_type": "markdown",
   "metadata": {},
   "source": [
    "Processamento"
   ]
  },
  {
   "cell_type": "code",
   "execution_count": 40,
   "metadata": {},
   "outputs": [],
   "source": [
    "# Variaveis\n",
    "aprovados = 0\n",
    "reprovados = 0\n",
    "maior_nota = 0\n",
    "menor_nota = 0\n",
    "maior = 0\n",
    "menor = 0\n",
    "media_geral = 0\n",
    "\n",
    "# Percorrendo a lista para realizar os calculos\n",
    "for posicao, aluno in enumerate(alunos):\n",
    "    # armazenando a media do aluno\n",
    "    media_aluno = aluno[4]\n",
    "\n",
    "    # Verifica quantidade de alunos aprovados e reprovados\n",
    "    if aluno[5] == \"Aprovado\":\n",
    "        aprovados += 1\n",
    "    else:\n",
    "        reprovados += 1\n",
    "\n",
    "    # Soma a media do aluno a media geral\n",
    "    media_geral += media_aluno\n",
    "\n",
    "    # Verifica menor nota\n",
    "    if media_aluno < menor_nota or menor_nota == 0:\n",
    "        menor_nota = media_aluno\n",
    "        menor = posicao\n",
    "\n",
    "      # Varifica maior nota\n",
    "    if media_aluno > maior_nota:\n",
    "        maior_nota = media_aluno\n",
    "        maior = posicao\n",
    "\n",
    "# Calcula a media geral\n",
    "media_geral /= len(alunos)"
   ]
  },
  {
   "attachments": {},
   "cell_type": "markdown",
   "metadata": {},
   "source": [
    "Saida de dados"
   ]
  },
  {
   "cell_type": "code",
   "execution_count": 44,
   "metadata": {},
   "outputs": [
    {
     "name": "stdout",
     "output_type": "stream",
     "text": [
      "Maior media: 10.0\n",
      "Posição: 0\n",
      "Nome: Henrique\n",
      "\n",
      "Menor media: 4.0\n",
      "Posição: 1\n",
      "Nome: Yasmin\n",
      "\n",
      "Quantidade de aprovados: 1\n",
      "Quantidade de reprovados: 1\n",
      "\n",
      "Media geral da turma: 7.0\n"
     ]
    }
   ],
   "source": [
    "# Maior nota\n",
    "print(\"Maior media:\", maior_nota)\n",
    "print(f\"Posição: { maior }\\nNome: { (alunos[maior][0]).capitalize() }\\n\")\n",
    "\n",
    "# Menor nota\n",
    "print(\"Menor media:\", menor_nota)\n",
    "print(f\"Posição: { menor }\\nNome: { (alunos[menor][0]).capitalize() }\\n\")\n",
    "\n",
    "# Quantidade aprovados e reprovados\n",
    "print(\"Quantidade de aprovados:\", aprovados)\n",
    "print(\"Quantidade de reprovados:\", reprovados)\n",
    "\n",
    "# Media geral da turma\n",
    "print(\"\\nMedia geral da turma:\", round(media_geral, 2))"
   ]
  }
 ],
 "metadata": {
  "kernelspec": {
   "display_name": "venv",
   "language": "python",
   "name": "python3"
  },
  "language_info": {
   "codemirror_mode": {
    "name": "ipython",
    "version": 3
   },
   "file_extension": ".py",
   "mimetype": "text/x-python",
   "name": "python",
   "nbconvert_exporter": "python",
   "pygments_lexer": "ipython3",
   "version": "3.11.2"
  },
  "orig_nbformat": 4
 },
 "nbformat": 4,
 "nbformat_minor": 2
}
