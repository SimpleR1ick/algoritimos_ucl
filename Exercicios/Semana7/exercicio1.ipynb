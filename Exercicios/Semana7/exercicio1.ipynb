{
 "cells": [
  {
   "attachments": {},
   "cell_type": "markdown",
   "metadata": {},
   "source": [
    "Uma companhia quer verificar entre os seus empregados quais estão qualificados para a \n",
    "aposentadoria. Para estar em condições de se aposentar, o empregado deverá atender a pelo \n",
    "menos um dos seguintes requisitos:\n",
    "- Ter no mínimo 65 anos de idade.\n",
    "- Ter trabalhado no mínimo 30 anos.\n",
    "- Ter no mínimo 60 anos e ter trabalhado no mínimo 25 anos.\n",
    "\n",
    "São dados de entrada: o número do empregado, o ano de seu nascimento e o ano de seu ingresso \n",
    "na companhia. \n",
    "\n",
    "O programa deverá calcular e retornar:\n",
    "1. A idade e o tempo de trabalho de cada empregado, exibindo a mensagem: “Requerer \n",
    "aposentadoria” ou “Não requerer aposentadoria”;\n",
    "\n",
    "2. Quantos funcionários estão qualificados para a aposentadoria e quantos não estão \n",
    "qualificados; \n",
    "\n",
    "3. A média de tempo de serviço dos funcionários qualificados para a aposentadoria.\n",
    "\n",
    "Obs.: O algoritmo será encerrado pelo usuário"
   ]
  },
  {
   "attachments": {},
   "cell_type": "markdown",
   "metadata": {},
   "source": [
    "Import bibliotecas"
   ]
  },
  {
   "cell_type": "code",
   "execution_count": 3,
   "metadata": {},
   "outputs": [],
   "source": [
    "from datetime import datetime as dt"
   ]
  },
  {
   "attachments": {},
   "cell_type": "markdown",
   "metadata": {},
   "source": [
    "Declaração de variaveis"
   ]
  },
  {
   "cell_type": "code",
   "execution_count": 6,
   "metadata": {},
   "outputs": [],
   "source": [
    "funcionarios = []"
   ]
  },
  {
   "attachments": {},
   "cell_type": "markdown",
   "metadata": {},
   "source": [
    "Entrada de dados"
   ]
  },
  {
   "cell_type": "code",
   "execution_count": 8,
   "metadata": {},
   "outputs": [
    {
     "name": "stdout",
     "output_type": "stream",
     "text": [
      "--- Digite as datas no formato dd/mm/aaaa ---\n"
     ]
    }
   ],
   "source": [
    "while True:\n",
    "    numero_empregado = int(input(\"Digite o numero do empregado: \"))\n",
    "\n",
    "    print(\"--- Digite as datas no formato dd/mm/aaaa ---\")\n",
    "    nascimento = input(\"Nascimento: \")\n",
    "    ingresso   = input(\"Ingresso: \")\n",
    "\n",
    "    try:\n",
    "        data_nascimento =  dt.strptime(nascimento, \"%d/%m/%Y\")\n",
    "        data_ingresso = dt.strptime(ingresso, \"%d/%m/%Y\")\n",
    "        \n",
    "    except ValueError:\n",
    "        print(\"Formato de data invalida! \")\n",
    "        continue\n",
    "    \n",
    "    else:\n",
    "        funcionarios.append({\n",
    "            \"idade\": data_nascimento.year,\n",
    "            \"entrada\": data_ingresso.year\n",
    "        })\n",
    "\n",
    "    if not input(\"Deseja adicioar mais um funcionario? (S)im (N)ão\").upper() in (\"S\", \"SIM\"):\n",
    "        break\n"
   ]
  },
  {
   "attachments": {},
   "cell_type": "markdown",
   "metadata": {},
   "source": [
    "Saida de dados"
   ]
  },
  {
   "cell_type": "code",
   "execution_count": null,
   "metadata": {},
   "outputs": [],
   "source": [
    "for i, funcionario in enumerate(funcionarios):\n",
    "    # Set informações\n",
    "    idade = funcionario['idade']\n",
    "    entrada = funcionario['entrada']\n",
    "    servico = idade - entrada\n",
    "\n",
    "    # Imprime os dados do funcionario\n",
    "    print(f\"--- Funcionario Nº: {i+1} ---\")\n",
    "    print(f\"Idade: {idade}\")\n",
    "    print(f\"Entrada: {entrada}\")\n",
    "\n",
    "    # Verifica se pode aposentar\n",
    "    aposentar = (idade >= 65) and ((servico >= 30) or (idade >= 60 and servico >= 25))\n",
    "\n",
    "    # Imprime necessidade\n",
    "    print((aposentar)*\"Requer aposentadoria\" or \"Não requer aposentadoria\")"
   ]
  }
 ],
 "metadata": {
  "kernelspec": {
   "display_name": "venv",
   "language": "python",
   "name": "python3"
  },
  "language_info": {
   "codemirror_mode": {
    "name": "ipython",
    "version": 3
   },
   "file_extension": ".py",
   "mimetype": "text/x-python",
   "name": "python",
   "nbconvert_exporter": "python",
   "pygments_lexer": "ipython3",
   "version": "3.11.2"
  },
  "orig_nbformat": 4
 },
 "nbformat": 4,
 "nbformat_minor": 2
}
