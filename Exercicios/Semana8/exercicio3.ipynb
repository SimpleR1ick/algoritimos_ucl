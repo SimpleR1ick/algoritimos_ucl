{
 "cells": [
  {
   "cell_type": "code",
   "execution_count": null,
   "metadata": {},
   "outputs": [],
   "source": [
    "# Criando a matriz vazia para armazenar as respostas dos alunos\n",
    "matriz_respostas = []\n",
    "\n",
    "# Loop para inserir as respostas de cada aluno\n",
    "for aluno in range(5):\n",
    "    print(f\"Aluno {aluno+1}:\")\n",
    "    respostas_aluno = []  # Lista para armazenar as respostas de um aluno específico\n",
    "    for questao in range(10):\n",
    "        resposta = input(f\"Resposta da questão {questao+1}: \")\n",
    "        respostas_aluno.append(resposta)\n",
    "    matriz_respostas.append(respostas_aluno)\n",
    "\n",
    "# Vetor com o gabarito de respostas\n",
    "gabarito = ['a', 'b', 'c', 'd', 'a', 'b', 'c', 'd', 'a', 'b']\n",
    "\n",
    "# Vetor para armazenar as pontuações dos alunos\n",
    "pontuacao_alunos = []\n",
    "\n",
    "# Comparando as respostas dos alunos com o gabarito e calculando a pontuação\n",
    "for aluno in range(5):\n",
    "    pontuacao = 0  # Pontuação inicial do aluno\n",
    "    for questao in range(10):\n",
    "        if matriz_respostas[aluno][questao] == gabarito[questao]:\n",
    "            pontuacao += 1\n",
    "    pontuacao_alunos.append(pontuacao)\n",
    "\n",
    "# Imprimindo as pontuações dos alunos\n",
    "print(\"Pontuação dos alunos:\")\n",
    "for aluno in range(5):\n",
    "    print(f\"Aluno {aluno+1}: {pontuacao_alunos[aluno]}\")\n"
   ]
  }
 ],
 "metadata": {
  "language_info": {
   "name": "python"
  },
  "orig_nbformat": 4
 },
 "nbformat": 4,
 "nbformat_minor": 2
}
