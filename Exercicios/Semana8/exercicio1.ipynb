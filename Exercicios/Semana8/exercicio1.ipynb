{
 "cells": [
  {
   "attachments": {},
   "cell_type": "markdown",
   "metadata": {},
   "source": [
    "Faça um programa que percorre uma lista com o seguinte formato: <br>\n",
    "<pre>\n",
    "[['Brasil', 'Italia', [10, 9]], \n",
    " ['Brasil', 'Espanha', [5, 7]],\n",
    " ['Italia', 'Espanha', [7, 8]]]. \n",
    "</pre>\n",
    " \n",
    "Essa lista indica o número de faltas que cada time fez em cada jogo. \n",
    "\n",
    "Na lista acima, no jogo entre Brasil e Itália, o Brasil fez 10 faltas e a Itália fez 9. O programa deve imprimir na tela: \n",
    "<ul>\n",
    " <li> o total de faltas do campeonato </li>\n",
    " <li> o time que fez mais faltas </li>\n",
    " <li> o time que fez menos falta </li>\n",
    "</ul>"
   ]
  },
  {
   "attachments": {},
   "cell_type": "markdown",
   "metadata": {},
   "source": [
    "Declaração de variaveis"
   ]
  },
  {
   "cell_type": "code",
   "execution_count": 5,
   "metadata": {},
   "outputs": [],
   "source": [
    "lista_jogos = [['Brasil', 'Italia', [10, 9]],\n",
    "               ['Brasil', 'Espanha', [5, 7]],\n",
    "               ['Italia', 'Espanha', [7, 8]]]\n",
    "\n",
    "total_faltas = 0\n",
    "faltas_por_time = {}"
   ]
  },
  {
   "attachments": {},
   "cell_type": "markdown",
   "metadata": {},
   "source": [
    "Processamento"
   ]
  },
  {
   "cell_type": "code",
   "execution_count": 6,
   "metadata": {},
   "outputs": [],
   "source": [
    "# Percorrendo a lista de jogos\n",
    "for jogo in lista_jogos:\n",
    "    # Desempacotando a lista\n",
    "    time_1, time_2, faltas = jogo\n",
    "    total_faltas += sum(faltas)\n",
    "    \n",
    "    # Verifica as faltas dos times\n",
    "    if time_1 in faltas_por_time:\n",
    "        faltas_por_time[time_1] += sum(faltas)\n",
    "    else:\n",
    "        faltas_por_time[time_1] = sum(faltas)\n",
    "    \n",
    "    if time_2 in faltas_por_time:\n",
    "        faltas_por_time[time_2] += sum(faltas)\n",
    "    else:\n",
    "        faltas_por_time[time_2] = sum(faltas)"
   ]
  },
  {
   "attachments": {},
   "cell_type": "markdown",
   "metadata": {},
   "source": [
    "Saida de dados"
   ]
  },
  {
   "cell_type": "code",
   "execution_count": 7,
   "metadata": {},
   "outputs": [
    {
     "name": "stdout",
     "output_type": "stream",
     "text": [
      "Total de faltas do campeonato: 46\n",
      "Time que fez mais faltas: Italia\n",
      "Time que fez menos faltas: Espanha\n"
     ]
    }
   ],
   "source": [
    "# Calculando os times com mais e menos faltas respectivamente\n",
    "time_mais_faltas = max(faltas_por_time,  key=faltas_por_time.get)\n",
    "time_menos_faltas = min(faltas_por_time, key=faltas_por_time.get)\n",
    "\n",
    "print(\"Total de faltas do campeonato:\", total_faltas)\n",
    "print(\"Time que fez mais faltas:\", time_mais_faltas)\n",
    "print(\"Time que fez menos faltas:\", time_menos_faltas)"
   ]
  }
 ],
 "metadata": {
  "kernelspec": {
   "display_name": "venv",
   "language": "python",
   "name": "python3"
  },
  "language_info": {
   "codemirror_mode": {
    "name": "ipython",
    "version": 3
   },
   "file_extension": ".py",
   "mimetype": "text/x-python",
   "name": "python",
   "nbconvert_exporter": "python",
   "pygments_lexer": "ipython3",
   "version": "3.11.2"
  },
  "orig_nbformat": 4
 },
 "nbformat": 4,
 "nbformat_minor": 2
}
