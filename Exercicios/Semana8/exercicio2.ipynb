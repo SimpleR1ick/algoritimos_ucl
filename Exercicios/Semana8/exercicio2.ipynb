{
 "cells": [
  {
   "cell_type": "code",
   "execution_count": null,
   "metadata": {},
   "outputs": [],
   "source": [
    "# Criando a matriz vazia para armazenar os tempos de cada volta\n",
    "matriz_tempos = []\n",
    "\n",
    "# Loop para inserir os tempos de cada volta de cada corredor\n",
    "for corredor in range(6):\n",
    "    print(f\"Corredor {corredor+1}:\")\n",
    "    tempos_corredor = []  # Lista para armazenar os tempos de um corredor específico\n",
    "    for volta in range(10):\n",
    "        tempo = int(input(f\"Tempo da volta {volta+1}: \"))\n",
    "        tempos_corredor.append(tempo)\n",
    "    matriz_tempos.append(tempos_corredor)\n",
    "\n",
    "# Variáveis para armazenar informações relevantes\n",
    "melhor_volta = float('inf')  # Inicializa com um valor alto para comparação\n",
    "corredor_melhor_volta = 0\n",
    "volta_melhor_volta = 0\n",
    "classificacao_final = []\n",
    "\n",
    "# Calculando a melhor volta e a classificação final\n",
    "for corredor in range(6):\n",
    "    soma_tempos = sum(matriz_tempos[corredor])  # Calcula a soma dos tempos do corredor\n",
    "    media_tempos = soma_tempos / 10  # Calcula a média dos tempos do corredor\n",
    "\n",
    "    # Verifica se é a melhor volta até o momento\n",
    "    if min(matriz_tempos[corredor]) < melhor_volta:\n",
    "        melhor_volta = min(matriz_tempos[corredor])\n",
    "        corredor_melhor_volta = corredor + 1\n",
    "        volta_melhor_volta = matriz_tempos[corredor].index(melhor_volta) + 1\n",
    "\n",
    "    # Insere o corredor na classificação final\n",
    "    classificacao_final.append((corredor + 1, media_tempos))\n",
    "\n",
    "# Ordena a classificação final com base na média dos tempos\n",
    "classificacao_final.sort(key=lambda x: x[1])\n",
    "\n",
    "# Imprime as informações solicitadas\n",
    "print(f\"\\nMelhor volta da prova: Corredor {corredor_melhor_volta}, Volta {volta_melhor_volta}\")\n",
    "print(\"Classificação final:\")\n",
    "for posicao, corredor in enumerate(classificacao_final):\n",
    "    print(f\"{posicao+1}º lugar: Corredor {corredor[0]}\")\n",
    "print(f\"Volta com a média mais rápida: Volta {classificacao_final[0][0]}\")\n"
   ]
  }
 ],
 "metadata": {
  "language_info": {
   "name": "python"
  },
  "orig_nbformat": 4
 },
 "nbformat": 4,
 "nbformat_minor": 2
}
