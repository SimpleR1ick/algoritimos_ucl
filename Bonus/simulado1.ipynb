{
 "cells": [
  {
   "attachments": {},
   "cell_type": "markdown",
   "metadata": {},
   "source": [
    "Exercicio 1"
   ]
  },
  {
   "cell_type": "code",
   "execution_count": null,
   "metadata": {},
   "outputs": [],
   "source": [
    "nome = input(\"Digite o nome: \")\n",
    "idade = int(input(\"Digite: \"))\n",
    "\n",
    "total = (\n",
    "    (idade <= 10)*30 or\n",
    "    (idade <= 29)*60 or\n",
    "    (idade <= 45)*120 or\n",
    "    (idade <= 59)*150 or\n",
    "    (idade <= 65)*250 or 400\n",
    ")\n",
    "\n",
    "print(f\"O {nome} deve pagar {total}\")"
   ]
  },
  {
   "attachments": {},
   "cell_type": "markdown",
   "metadata": {},
   "source": [
    "Exercicio 2"
   ]
  },
  {
   "cell_type": "code",
   "execution_count": 4,
   "metadata": {},
   "outputs": [
    {
     "name": "stdout",
     "output_type": "stream",
     "text": [
      "Tomar 30 gotas\n"
     ]
    }
   ],
   "source": [
    "idade = int(input(\"Digite a idade: \"))\n",
    "peso = float(input(\"Digite o peso: \"))\n",
    "\n",
    "if idade <= 12:\n",
    "    if peso >= 60:\n",
    "        mg = 1000\n",
    "    else:\n",
    "        mg = 875\n",
    "else:\n",
    "    if 5 <= peso <= 9:\n",
    "        mg = 125\n",
    "    elif 9.1 <= peso <= 16:\n",
    "        mg = 250\n",
    "    elif 16.1 <= peso <= 24:\n",
    "        mg = 375\n",
    "    elif 24.1 <= peso <= 30:\n",
    "        mg = 500\n",
    "    else:\n",
    "        mg = 750\n",
    "\n",
    "print(f\"Tomar {round(mg / 25)} gotas\")"
   ]
  },
  {
   "cell_type": "code",
   "execution_count": null,
   "metadata": {},
   "outputs": [],
   "source": []
  }
 ],
 "metadata": {
  "kernelspec": {
   "display_name": "Python 3",
   "language": "python",
   "name": "python3"
  },
  "language_info": {
   "codemirror_mode": {
    "name": "ipython",
    "version": 3
   },
   "file_extension": ".py",
   "mimetype": "text/x-python",
   "name": "python",
   "nbconvert_exporter": "python",
   "pygments_lexer": "ipython3",
   "version": "3.11.2"
  },
  "orig_nbformat": 4
 },
 "nbformat": 4,
 "nbformat_minor": 2
}
