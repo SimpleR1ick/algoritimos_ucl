{
 "cells": [
  {
   "attachments": {},
   "cell_type": "markdown",
   "metadata": {},
   "source": [
    "Exercicio 1"
   ]
  },
  {
   "cell_type": "code",
   "execution_count": null,
   "metadata": {},
   "outputs": [],
   "source": [
    "def main():\n",
    "    nome_cliente = input(\"Digite o nome do cliente: \")\n",
    "    destino = input(\"Digite o destino desejado (Tucum, Satana, Itaquera ou Montanha): \").lower()\n",
    "    preco_inteiro = float(input(\"Digite o preço integral da passagem: \"))\n",
    "    cartao_fidelidade = input(\"O cliente possui cartão fidelidade? (S/N): \").lower()\n",
    "    idade = int(input(\"Digite a idade do cliente: \"))\n",
    "\n",
    "    # Verifica se o destino digitado é válido\n",
    "    if destino not in [\"tucum\", \"satana\", \"itaquera\", \"montanha\"]:\n",
    "        print(\"Destino inválido. Tente novamente.\")\n",
    "\n",
    "        return 0\n",
    "        \n",
    "    # Define o desconto de acordo com o destino\n",
    "    if destino == \"tucum\":\n",
    "        desconto = 0.05\n",
    "        \n",
    "    elif destino == \"satana\":\n",
    "        desconto = 0.17\n",
    "\n",
    "    elif destino == \"itaquera\":\n",
    "        desconto = 0.20\n",
    "    else:\n",
    "        desconto = 0.25\n",
    "        \n",
    "    # Verifica se o cliente possui cartão fidelidade\n",
    "    if cartao_fidelidade == \"s\":\n",
    "\n",
    "        # Adiciona o desconto adicional para clientes com cartão fidelidade\n",
    "        if destino in [\"tucum\", \"satana\"]:\n",
    "            desconto += 0.05\n",
    "        else:\n",
    "            desconto += 0.07\n",
    "    \n",
    "    # Verifica se o cliente é idoso\n",
    "    if idade >= 65:\n",
    "        desconto += 0.7\n",
    "        \n",
    "    # Calcula o valor final da passagem com desconto\n",
    "    valor_final = preco_inteiro * (1 - desconto)\n",
    "    \n",
    "    print(f\"O valor final da passagem para {nome_cliente} com destino a {destino.capitalize()} é R$ {valor_final:.2f}.\")\n",
    "\n",
    "if __name__ == \"__main__\":\n",
    "    main()"
   ]
  },
  {
   "attachments": {},
   "cell_type": "markdown",
   "metadata": {},
   "source": [
    "Exercicio 2"
   ]
  },
  {
   "cell_type": "code",
   "execution_count": null,
   "metadata": {},
   "outputs": [],
   "source": [
    "n1 = int(input(\"Digite o primeiro número: \"))\n",
    "n2 = int(input(\"Digite o segundo número: \"))\n",
    "n3 = int(input(\"Digite o terceiro número: \"))\n",
    "\n",
    "# Verifica se existem números pares ou ímpares entre os três números\n",
    "existe_par = n1 % 2 == 0 or n2 % 2 == 0 or n3 % 2 == 0\n",
    "existe_impar = n1 % 2 != 0 or n2 % 2 != 0 or n3 % 2 != 0\n",
    "\n",
    "# Calcula o produto de n1 e n2 elevado a n3\n",
    "produto = (n1 * n2) ** n3\n",
    "\n",
    "# Verifica qual é o menor número entre os três\n",
    "menor = n1\n",
    "if n2 < menor:\n",
    "    menor = n2\n",
    "if n3 < menor:\n",
    "    menor = n3\n",
    "\n",
    "print(f\"Existem números pares entre os três números? {existe_par}\")\n",
    "print(f\"Existem números ímpares entre os três números? {existe_impar}\")\n",
    "print(f\"O produto de {n1} e {n2} elevado a {n3} é igual a {produto}\")\n",
    "print(f\"O menor número entre os três é {menor}\")\n"
   ]
  }
 ],
 "metadata": {
  "kernelspec": {
   "display_name": "Python 3",
   "language": "python",
   "name": "python3"
  },
  "language_info": {
   "name": "python",
   "version": "3.11.2"
  },
  "orig_nbformat": 4
 },
 "nbformat": 4,
 "nbformat_minor": 2
}
