{
 "cells": [
  {
   "attachments": {},
   "cell_type": "markdown",
   "metadata": {},
   "source": [
    "a) Preencha pelo teclado uma matriz 3 x 3 com números inteiros"
   ]
  },
  {
   "cell_type": "code",
   "execution_count": 67,
   "metadata": {},
   "outputs": [],
   "source": [
    "matriz = list()\n",
    "\n",
    "# Criando uma matriz 3 x 3\n",
    "for i in range(3):\n",
    "    linha = [] # Limpando a linha\n",
    "\n",
    "    for l in range(3):\n",
    "        # Entrada de dados\n",
    "        elemento = int(input(\"Digite o numero\"))\n",
    "\n",
    "        # Adiciona o elemento a linha\n",
    "        linha.append(elemento)\n",
    "\n",
    "    # Adiciona a linha a matriz\n",
    "    matriz.append(linha)"
   ]
  },
  {
   "cell_type": "code",
   "execution_count": 75,
   "metadata": {},
   "outputs": [],
   "source": [
    "def imprimir_matriz(objeto):\n",
    "    print(\"----Matriz----\\n\")\n",
    "\n",
    "    # Percorrendo a matriz é seus elementos\n",
    "    for linha in objeto:\n",
    "        for elemento in linha:\n",
    "            # Imprimindo com largura 3\n",
    "            print(f\"{elemento:3}\", end=\" \")\n",
    "        # Quebra de linha\n",
    "        print()"
   ]
  },
  {
   "attachments": {},
   "cell_type": "markdown",
   "metadata": {},
   "source": [
    "b) Imprima a matriz de números inteiros em formato matriz:"
   ]
  },
  {
   "cell_type": "code",
   "execution_count": 76,
   "metadata": {},
   "outputs": [
    {
     "name": "stdout",
     "output_type": "stream",
     "text": [
      "----Matriz----\n",
      "\n",
      "  1   2   3 \n",
      "  4   5   6 \n",
      "  7   8   9 \n"
     ]
    }
   ],
   "source": [
    "imprimir_matriz(matriz)"
   ]
  },
  {
   "attachments": {},
   "cell_type": "markdown",
   "metadata": {},
   "source": [
    "c) Realize a soma de cada linha da matriz. Apresente o resultado:"
   ]
  },
  {
   "cell_type": "code",
   "execution_count": 70,
   "metadata": {},
   "outputs": [
    {
     "name": "stdout",
     "output_type": "stream",
     "text": [
      "----Soma linha----\n",
      "\n",
      "6\n",
      "15\n",
      "24\n"
     ]
    }
   ],
   "source": [
    "print(\"----Soma linha----\\n\")\n",
    "\n",
    "# Percorrendo a matriz imprimindo a soma de cada linha\n",
    "for l in range(3):\n",
    "    soma = 0\n",
    "\n",
    "    for c in range(3):\n",
    "        soma += matriz[l][c]\n",
    "\n",
    "    print(f\"{soma}\")\n"
   ]
  },
  {
   "attachments": {},
   "cell_type": "markdown",
   "metadata": {},
   "source": [
    "d) Realiza a soma de cada coluna da matriz. Apresente o resultado: "
   ]
  },
  {
   "cell_type": "code",
   "execution_count": 71,
   "metadata": {},
   "outputs": [
    {
     "name": "stdout",
     "output_type": "stream",
     "text": [
      "----Soma coluna----\n",
      "\n",
      "12\n",
      "15\n",
      "18\n"
     ]
    }
   ],
   "source": [
    "print(\"----Soma coluna----\\n\")\n",
    "\n",
    "for c in range(3):\n",
    "    soma = 0\n",
    "\n",
    "    for l in range(3):\n",
    "        soma += matriz[l][c]\n",
    "\n",
    "    print(f\"{soma}\")"
   ]
  },
  {
   "attachments": {},
   "cell_type": "markdown",
   "metadata": {},
   "source": [
    "e) Realize a soma dos elemtnos da diagonal principal"
   ]
  },
  {
   "cell_type": "code",
   "execution_count": 72,
   "metadata": {},
   "outputs": [
    {
     "name": "stdout",
     "output_type": "stream",
     "text": [
      "----Soma principal----\n",
      "\n",
      "15\n"
     ]
    }
   ],
   "source": [
    "print(\"----Soma principal----\\n\")\n",
    "soma = 0\n",
    "\n",
    "for i in range(3):\n",
    "    soma += matriz[i][i]\n",
    "\n",
    "print(f\"{soma}\")"
   ]
  },
  {
   "attachments": {},
   "cell_type": "markdown",
   "metadata": {},
   "source": [
    "f) Realize a soma dos elementos da diagonal secundaria"
   ]
  },
  {
   "cell_type": "code",
   "execution_count": 73,
   "metadata": {},
   "outputs": [
    {
     "name": "stdout",
     "output_type": "stream",
     "text": [
      "----Soma secundaria----\n",
      "\n",
      "15\n"
     ]
    }
   ],
   "source": [
    "print(\"----Soma secundaria----\\n\")\n",
    "soma = 0\n",
    "\n",
    "for i in range(3):\n",
    "    soma += matriz[i][-i]\n",
    "\n",
    "print(f\"{soma}\")"
   ]
  },
  {
   "attachments": {},
   "cell_type": "markdown",
   "metadata": {},
   "source": [
    "g) Gera a matriz transporta da matriz de número inteiros criada na letra \"a\". Imprima a matriz transporta. Na transporta a linha vira coluna"
   ]
  },
  {
   "cell_type": "code",
   "execution_count": 83,
   "metadata": {},
   "outputs": [
    {
     "name": "stdout",
     "output_type": "stream",
     "text": [
      "----Matriz----\n",
      "\n",
      "  1   4   7 \n",
      "  2   5   8 \n",
      "  3   6   9 \n"
     ]
    }
   ],
   "source": [
    "matriz_transposta = []\n",
    "\n",
    "for i in range(3):\n",
    "    linha_transposta = []\n",
    "\n",
    "    for j in range(3):\n",
    "        linha_transposta.append(matriz[j][i])\n",
    "\n",
    "    matriz_transposta.append(linha_transposta)\n",
    "\n",
    "imprimir_matriz(matriz_transposta)"
   ]
  }
 ],
 "metadata": {
  "kernelspec": {
   "display_name": "venv",
   "language": "python",
   "name": "python3"
  },
  "language_info": {
   "codemirror_mode": {
    "name": "ipython",
    "version": 3
   },
   "file_extension": ".py",
   "mimetype": "text/x-python",
   "name": "python",
   "nbconvert_exporter": "python",
   "pygments_lexer": "ipython3",
   "version": "3.11.2"
  },
  "orig_nbformat": 4
 },
 "nbformat": 4,
 "nbformat_minor": 2
}
