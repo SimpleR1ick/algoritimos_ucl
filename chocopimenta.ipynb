{
 "cells": [
  {
   "attachments": {},
   "cell_type": "markdown",
   "metadata": {},
   "source": [
    "Declaração de variaveis"
   ]
  },
  {
   "cell_type": "code",
   "execution_count": null,
   "metadata": {},
   "outputs": [],
   "source": [
    "preco_branco = 0\n",
    "preco_amargo = 0\n",
    "preco_leite = 0\n",
    "preco_lote  = 0\n",
    "\n",
    "media_peso = 0\n",
    "\n",
    "total_branco = 0\n",
    "total_amargo = 0\n",
    "total_leite = 0\n",
    "\n",
    "ovos  = []\n",
    "\n",
    "mais_arrecadou = ''"
   ]
  },
  {
   "attachments": {},
   "cell_type": "markdown",
   "metadata": {},
   "source": [
    "Entrada de dados"
   ]
  },
  {
   "cell_type": "code",
   "execution_count": null,
   "metadata": {},
   "outputs": [],
   "source": [
    "print(\"--- Cadastro de preços dos ovos ---\")\n",
    "\n",
    "preco_branco = float(input(\"Branco: \\t\"))\n",
    "preco_amargo = float(input(\"Amargo: \\t\"))\n",
    "preco_leite  = float(input(\"Ao leite: \\t\"))\n",
    "\n",
    "print(\"___________________________________\")"
   ]
  },
  {
   "cell_type": "code",
   "execution_count": null,
   "metadata": {},
   "outputs": [],
   "source": [
    "for i in range(4):\n",
    "    # Entrada de dados dos lotes\n",
    "    print(f\"Informe o {i+1}º lote\")\n",
    "    numero_lote = int(input(\"Numero do lote\"))\n",
    "    peso_gramas = float(input(\"Peso em gramas: \"))\n",
    "    tipo_de_ovo = int(input(\"1 - Branco, 2 - Amargo, 3 - Ao Leite\"))\n",
    "\n",
    "    # Calculando o preço do lote\n",
    "    preco_lote.append(peso_gramas * (\n",
    "        (tipo_de_ovo == 1)* preco_branco or\n",
    "        (tipo_de_ovo == 2)* preco_amargo or preco_leite\n",
    "    ))\n",
    "    # Criando um ovo\n",
    "    ovo = {\n",
    "        \"lote\": numero_lote,\n",
    "        \"peso\": peso_gramas,\n",
    "        \"tipo\": tipo_de_ovo,\n",
    "        \"preco\": preco_lote\n",
    "    }\n",
    "    # Adicionando a lista de ovo\n",
    "    ovos.append(ovo)\n",
    "\n",
    "    # Calculando peso medio\n",
    "    if ovo['tipo'] == 1:\n",
    "        media_peso += ovo[\"peso\"]\n",
    "\n",
    "    # Calculando maior arreacadação\n",
    "    match tipo_de_ovo:\n",
    "        case 1:\n",
    "            total_branco += ovo[\"preco\"]\n",
    "\n",
    "        case 2:\n",
    "            total_amargo += ovo[\"preco\"]\n",
    "\n",
    "        case 3:\n",
    "            total_leite += ovo[\"preco\"]\n",
    "    \n",
    "    print(\"___________________________________\")\n"
   ]
  },
  {
   "attachments": {},
   "cell_type": "markdown",
   "metadata": {},
   "source": [
    "Saida de dados"
   ]
  },
  {
   "cell_type": "code",
   "execution_count": null,
   "metadata": {},
   "outputs": [],
   "source": [
    "# Verifica quem mais arrecadou\n",
    "mais_arrecadou = (\n",
    "    (total_branco > total_amargo and total_branco > total_leite)*\"Branco\" or\n",
    "    (total_amargo > total_branco and total_amargo > total_leite)*\"Amargo\" or \"Ao leite\"\n",
    ")\n",
    "\n",
    "print(\"O tipo de ovo que mais arrecadou foi o tipo\", mais_arrecadou)"
   ]
  }
 ],
 "metadata": {
  "kernelspec": {
   "display_name": "Python 3",
   "language": "python",
   "name": "python3"
  },
  "language_info": {
   "codemirror_mode": {
    "name": "ipython",
    "version": 3
   },
   "file_extension": ".py",
   "mimetype": "text/x-python",
   "name": "python",
   "nbconvert_exporter": "python",
   "pygments_lexer": "ipython3",
   "version": "3.11.2"
  },
  "orig_nbformat": 4
 },
 "nbformat": 4,
 "nbformat_minor": 2
}
