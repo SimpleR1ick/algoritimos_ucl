{
 "cells": [
  {
   "attachments": {},
   "cell_type": "markdown",
   "metadata": {},
   "source": [
    "Questão 1"
   ]
  },
  {
   "cell_type": "code",
   "execution_count": null,
   "metadata": {},
   "outputs": [],
   "source": [
    "n1 = int(input(\"Digite o primeiro número: \"))\n",
    "n2 = int(input(\"Digite o segundo número: \"))\n",
    "\n",
    "print((n1 > n2)*\"O primeiro número é o maior\" or (n2 > n1)*\"O segundo é o maior\")"
   ]
  },
  {
   "attachments": {},
   "cell_type": "markdown",
   "metadata": {},
   "source": [
    "Questão 2"
   ]
  },
  {
   "cell_type": "code",
   "execution_count": null,
   "metadata": {},
   "outputs": [],
   "source": [
    "num = int(input(\"Digite um numero: \"))\n",
    "\n",
    "print((num > 0)*\"Maior que zero\" or (num == 0)*\"Igual a zero\" or \"Menor que zero\")"
   ]
  },
  {
   "attachments": {},
   "cell_type": "markdown",
   "metadata": {},
   "source": [
    "Questão 3"
   ]
  },
  {
   "cell_type": "code",
   "execution_count": null,
   "metadata": {},
   "outputs": [],
   "source": [
    "num = int(input(\"Digite um numero: \"))\n",
    "\n",
    "print((num % 2 == 0)*\"Par\" or \"Impar\")"
   ]
  },
  {
   "attachments": {},
   "cell_type": "markdown",
   "metadata": {},
   "source": [
    "Questão 4"
   ]
  },
  {
   "cell_type": "code",
   "execution_count": null,
   "metadata": {},
   "outputs": [],
   "source": [
    "num = int(input(\"Digite o numero: \"))\n",
    "\n",
    "print((num > 80)*\"Maior que oitenta\" or (num < 25)*\"Menor que vinte e cinco\" or (num == 40)*\"Igual a quarenta\")"
   ]
  },
  {
   "attachments": {},
   "cell_type": "markdown",
   "metadata": {},
   "source": [
    "Questão 5"
   ]
  },
  {
   "cell_type": "code",
   "execution_count": null,
   "metadata": {},
   "outputs": [],
   "source": [
    "segredo = \"batatafrita\"\n",
    "\n",
    "senha = input(\"Digite a senha: \")\n",
    "\n",
    "print((senha == segredo)*\"Acesso permitido\" or \"Acesso negado\")"
   ]
  },
  {
   "attachments": {},
   "cell_type": "markdown",
   "metadata": {},
   "source": [
    "Questão 6"
   ]
  },
  {
   "cell_type": "code",
   "execution_count": null,
   "metadata": {},
   "outputs": [],
   "source": [
    "v1 = int(input(\"Digite o primeiro numero: \"))\n",
    "v2 = int(input(\"Digite o segundo numero: \"))\n",
    "v3 = int(input(\"Digite o terceiro numero: \"))\n",
    "\n",
    "print(*sorted([v1, v2, v3]))"
   ]
  },
  {
   "attachments": {},
   "cell_type": "markdown",
   "metadata": {},
   "source": [
    "Questão 7"
   ]
  },
  {
   "cell_type": "code",
   "execution_count": null,
   "metadata": {},
   "outputs": [],
   "source": [
    "reajuste = 0\n",
    "\n",
    "minimo = float(input(\"Digite o salario minimo: \"))\n",
    "salario = float(input(\"Digite o salario\"))\n",
    "\n",
    "reajuste = (salario <= minimo * 3)*0.50 or (salario <= minimo * 10)*0.20 or (salario <= minimo * 20) or 0.10\n",
    "\n",
    "print(\"Salario final:\", salario + reajuste)"
   ]
  },
  {
   "attachments": {},
   "cell_type": "markdown",
   "metadata": {},
   "source": [
    "Questão 8"
   ]
  },
  {
   "cell_type": "code",
   "execution_count": null,
   "metadata": {},
   "outputs": [],
   "source": [
    "preco = float(input(\"Digite o preço do veiculo: \"))\n",
    "ano = int(input(\"Digite o ano de fabricação: \"))\n",
    "\n",
    "desconto = (ano <= 2000)*0.12 or 0.07\n",
    "\n",
    "print(\"Desconto do veiculo: \", preco - desconto)"
   ]
  },
  {
   "attachments": {},
   "cell_type": "markdown",
   "metadata": {},
   "source": [
    "Questão 9"
   ]
  },
  {
   "cell_type": "code",
   "execution_count": null,
   "metadata": {},
   "outputs": [],
   "source": [
    "num = int(input(\"Digite o numero: \"))\n",
    "\n",
    "print((100 <= num <= 200)*\"Esta contido no intervalo\" or \"Não esta contido\")\n"
   ]
  },
  {
   "attachments": {},
   "cell_type": "markdown",
   "metadata": {},
   "source": [
    "Questão 10"
   ]
  },
  {
   "cell_type": "code",
   "execution_count": null,
   "metadata": {},
   "outputs": [],
   "source": [
    "nome = int(input(\"Digite o nome do jogador\"))\n",
    "salario = float(\"Digite o salario do jogador: \")\n",
    "\n",
    "reajuste = (salario <= 5000)*0.2 or 0.1\n",
    "\n",
    "print(\"Salario reajustado: \", salario - reajuste)"
   ]
  },
  {
   "attachments": {},
   "cell_type": "markdown",
   "metadata": {},
   "source": [
    "Questão 11"
   ]
  },
  {
   "cell_type": "code",
   "execution_count": null,
   "metadata": {},
   "outputs": [],
   "source": [
    "nome = input(\"Digite o nome: \")\n",
    "apto = input(\"Digite o tipo de apartamento: \")\n",
    "diaria = int(input(\"Digite a quantidade de diarias: \"))\n",
    "consumo = float(\"Digite o valor em consumo: \")\n",
    "\n",
    "total = (\n",
    "    (apto == \"A\")*150 or\n",
    "    (apto == \"B\")*100 or\n",
    "    (apto == \"C\")*75 or\n",
    "    (apto == \"D\")*50\n",
    ")\n",
    "\n",
    "subtotal = total * diaria\n",
    "\n",
    "print(\"Valor total: \", subtotal + consumo)"
   ]
  },
  {
   "attachments": {},
   "cell_type": "markdown",
   "metadata": {},
   "source": [
    "Questão 8"
   ]
  },
  {
   "cell_type": "code",
   "execution_count": null,
   "metadata": {},
   "outputs": [],
   "source": [
    "valor = float(input(\"Digite o valor de compra do produto: \"))\n",
    "\n",
    "lucro = (valor < 20)*0.45 or 0.3\n",
    "\n",
    "venda = valor * (1 + lucro)\n",
    "\n",
    "print(f\"O valor de venda do produto é: R$ {venda:.2f}\")\n"
   ]
  }
 ],
 "metadata": {
  "kernelspec": {
   "display_name": "Python 3",
   "language": "python",
   "name": "python3"
  },
  "language_info": {
   "codemirror_mode": {
    "name": "ipython",
    "version": 3
   },
   "file_extension": ".py",
   "mimetype": "text/x-python",
   "name": "python",
   "nbconvert_exporter": "python",
   "pygments_lexer": "ipython3",
   "version": "3.11.2"
  },
  "orig_nbformat": 4
 },
 "nbformat": 4,
 "nbformat_minor": 2
}
