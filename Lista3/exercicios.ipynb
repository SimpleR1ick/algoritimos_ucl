{
 "cells": [
  {
   "attachments": {},
   "cell_type": "markdown",
   "metadata": {},
   "source": [
    "1) Crie uma lista vazia . Imprima a lista"
   ]
  },
  {
   "cell_type": "code",
   "execution_count": 29,
   "metadata": {},
   "outputs": [
    {
     "name": "stdout",
     "output_type": "stream",
     "text": [
      "[]\n"
     ]
    }
   ],
   "source": [
    "lista = []\n",
    "\n",
    "print(lista)"
   ]
  },
  {
   "attachments": {},
   "cell_type": "markdown",
   "metadata": {},
   "source": [
    "2) Crie uma lista “idade” com a idade de 10 pessoas. Imprima a lista.\n"
   ]
  },
  {
   "cell_type": "code",
   "execution_count": 30,
   "metadata": {},
   "outputs": [
    {
     "name": "stdout",
     "output_type": "stream",
     "text": [
      "[10, 18, 17, 14, 15, 9, 20, 25, 6, 8]\n"
     ]
    }
   ],
   "source": [
    "idades = [10, 18, 17, 14, 15, 9, 20, 25, 6, 8]\n",
    "\n",
    "print(idades)"
   ]
  },
  {
   "attachments": {},
   "cell_type": "markdown",
   "metadata": {},
   "source": [
    "3) Solicite ao usuário uma nova idade e insira na lista. Imprima a lista."
   ]
  },
  {
   "cell_type": "code",
   "execution_count": 31,
   "metadata": {},
   "outputs": [],
   "source": [
    "idade = int(input(\"Digite uma nova idade: \"))\n",
    "\n",
    "idades.append(idade)"
   ]
  },
  {
   "attachments": {},
   "cell_type": "markdown",
   "metadata": {},
   "source": [
    "4) Crie uma nova lista “nome” com o nome de 6 pessoas.Imprima a lista"
   ]
  },
  {
   "cell_type": "code",
   "execution_count": 32,
   "metadata": {},
   "outputs": [],
   "source": [
    "nomes = ['Henrique', 'Raphael', 'Eduardo', 'Breno', 'Gianluca', 'Pedro']"
   ]
  },
  {
   "attachments": {},
   "cell_type": "markdown",
   "metadata": {},
   "source": [
    "5) Crie uma nova lista “nome_idade” com o conteúdo das duas listas anteriores. Imprima a lista."
   ]
  },
  {
   "cell_type": "code",
   "execution_count": 38,
   "metadata": {},
   "outputs": [
    {
     "name": "stdout",
     "output_type": "stream",
     "text": [
      "['Henrique', 'Raphael', 'Eduardo', 'Breno', 'Gianluca', 'Pedro', 10, 18, 17, 14, 15, 9, 20, 25, 6, 8, 18]\n"
     ]
    }
   ],
   "source": [
    "nome_idade = nomes + idades\n",
    "\n",
    "print(nome_idade)"
   ]
  },
  {
   "attachments": {},
   "cell_type": "markdown",
   "metadata": {},
   "source": [
    "6) Imprima a lista “idade” e imprima o 5º elemento dessa lista"
   ]
  },
  {
   "cell_type": "code",
   "execution_count": 34,
   "metadata": {},
   "outputs": [
    {
     "name": "stdout",
     "output_type": "stream",
     "text": [
      "15\n"
     ]
    }
   ],
   "source": [
    "print(idades[4])"
   ]
  },
  {
   "attachments": {},
   "cell_type": "markdown",
   "metadata": {},
   "source": [
    "7) Imprima a lista “idade” e imprima o elemento que está na posição/ índice 5 dessa list"
   ]
  },
  {
   "cell_type": "code",
   "execution_count": 35,
   "metadata": {},
   "outputs": [
    {
     "name": "stdout",
     "output_type": "stream",
     "text": [
      "9\n"
     ]
    }
   ],
   "source": [
    "print(idades[5])"
   ]
  },
  {
   "attachments": {},
   "cell_type": "markdown",
   "metadata": {},
   "source": [
    "8) Imprima a lista “idade” e imprima o elemento que está na posição/indice -5 dessa lista."
   ]
  },
  {
   "cell_type": "code",
   "execution_count": 36,
   "metadata": {},
   "outputs": [
    {
     "name": "stdout",
     "output_type": "stream",
     "text": [
      "20\n"
     ]
    }
   ],
   "source": [
    "print(idades[-5])"
   ]
  },
  {
   "attachments": {},
   "cell_type": "markdown",
   "metadata": {},
   "source": [
    "9) Imprima a lista “nome_idade “ e imprima a 4º idade dessa lista"
   ]
  },
  {
   "cell_type": "code",
   "execution_count": 40,
   "metadata": {},
   "outputs": [
    {
     "name": "stdout",
     "output_type": "stream",
     "text": [
      "17\n"
     ]
    }
   ],
   "source": [
    "print(nome_idade[8])"
   ]
  },
  {
   "attachments": {},
   "cell_type": "markdown",
   "metadata": {},
   "source": [
    "10) Imprima a lista “nome” e informe quantos elementos essa lista possui."
   ]
  },
  {
   "cell_type": "code",
   "execution_count": null,
   "metadata": {},
   "outputs": [
    {
     "name": "stdout",
     "output_type": "stream",
     "text": [
      "6\n"
     ]
    }
   ],
   "source": [
    "print(len(nomes))"
   ]
  },
  {
   "attachments": {},
   "cell_type": "markdown",
   "metadata": {},
   "source": [
    "11) Concatene a lista “nome” com a lista “idade"
   ]
  },
  {
   "cell_type": "code",
   "execution_count": null,
   "metadata": {},
   "outputs": [
    {
     "name": "stdout",
     "output_type": "stream",
     "text": [
      "['Henrique', 'Raphael', 'Eduardo', 'Breno', 'Gianluca', 'Pedro', 10, 18, 17, 14, 15, 9, 20, 25, 6, 8]\n"
     ]
    }
   ],
   "source": [
    "print(nomes + idades)"
   ]
  },
  {
   "attachments": {},
   "cell_type": "markdown",
   "metadata": {},
   "source": [
    "12) Crie duas cópias da lista idade e imprima o resultado."
   ]
  },
  {
   "cell_type": "code",
   "execution_count": null,
   "metadata": {},
   "outputs": [
    {
     "name": "stdout",
     "output_type": "stream",
     "text": [
      "[10, 18, 17, 14, 15, 9, 20, 25, 6, 8, 10, 18, 17, 14, 15, 9, 20, 25, 6, 8]\n"
     ]
    }
   ],
   "source": [
    "print(idade * 2)"
   ]
  },
  {
   "attachments": {},
   "cell_type": "markdown",
   "metadata": {},
   "source": [
    "13) Imprima a lista “nome” e verifique se o nome Joana consta ou não nessa lista"
   ]
  },
  {
   "cell_type": "code",
   "execution_count": null,
   "metadata": {},
   "outputs": [
    {
     "name": "stdout",
     "output_type": "stream",
     "text": [
      "Não incluso\n"
     ]
    }
   ],
   "source": [
    "print((\"Joana\" in nomes)*\"Incluso\" or \"Não incluso\" )"
   ]
  },
  {
   "attachments": {},
   "cell_type": "markdown",
   "metadata": {},
   "source": [
    "14) Imprima a lista idade e retorne a maior idade, a menor idade e a soma de todas as idades dessa lista."
   ]
  },
  {
   "cell_type": "code",
   "execution_count": null,
   "metadata": {},
   "outputs": [
    {
     "name": "stdout",
     "output_type": "stream",
     "text": [
      "6\n",
      "25\n",
      "142\n"
     ]
    }
   ],
   "source": [
    "print(min(idades))\n",
    "print(max(idades))\n",
    "print(sum(idades))"
   ]
  },
  {
   "attachments": {},
   "cell_type": "markdown",
   "metadata": {},
   "source": [
    "15) Insira na lista “nome” um novo nome e na lista “idade” uma nova idade. Imprima as duas listas"
   ]
  },
  {
   "cell_type": "code",
   "execution_count": null,
   "metadata": {},
   "outputs": [],
   "source": [
    "nomes.append(\"Yasmin\")\n",
    "idades.append(22)"
   ]
  },
  {
   "attachments": {},
   "cell_type": "markdown",
   "metadata": {},
   "source": [
    "16) Insira uma novo nome no início da lista “nome” e uma nova idade no início da lista “idade”. \n",
    "Imprima as listas"
   ]
  },
  {
   "cell_type": "code",
   "execution_count": null,
   "metadata": {},
   "outputs": [],
   "source": [
    "nomes.insert(0, \"Zirlene\")\n",
    "idades.insert(0, \"47\")"
   ]
  },
  {
   "attachments": {},
   "cell_type": "markdown",
   "metadata": {},
   "source": [
    "17) Imprima lista “nome” e a lista “idade e remova a última idade da lista “idade”e o último nome \n",
    "da lista “nome”. Imprima as duas lista."
   ]
  },
  {
   "cell_type": "code",
   "execution_count": 41,
   "metadata": {},
   "outputs": [
    {
     "name": "stdout",
     "output_type": "stream",
     "text": [
      "['Henrique', 'Raphael', 'Eduardo', 'Breno', 'Gianluca', 'Pedro']\n",
      "[10, 18, 17, 14, 15, 9, 20, 25, 6, 8, 18]\n",
      "['Henrique', 'Raphael', 'Eduardo', 'Breno', 'Gianluca']\n",
      "[10, 18, 17, 14, 15, 9, 20, 25, 6, 8]\n"
     ]
    }
   ],
   "source": [
    "print(nomes)\n",
    "print(idades)\n",
    "\n",
    "nomes.pop()\n",
    "idades.pop()\n",
    "\n",
    "print(nomes)\n",
    "print(idades)\n"
   ]
  },
  {
   "attachments": {},
   "cell_type": "markdown",
   "metadata": {},
   "source": [
    "18) Imprima a lista “nome” e a lista “idade”. Remova o nome que está na posição/indice 3 da lista \n",
    "“nome” e remova a idade que está na posição 2 da lista idade. Imprima novamente as listas para \n",
    "checagem."
   ]
  },
  {
   "cell_type": "code",
   "execution_count": 42,
   "metadata": {},
   "outputs": [
    {
     "name": "stdout",
     "output_type": "stream",
     "text": [
      "['Henrique', 'Raphael', 'Eduardo', 'Breno', 'Gianluca']\n",
      "[10, 18, 17, 14, 15, 9, 20, 25, 6, 8]\n",
      "['Henrique', 'Raphael', 'Eduardo', 'Gianluca']\n",
      "[10, 18, 14, 15, 9, 20, 25, 6, 8]\n"
     ]
    }
   ],
   "source": [
    "print(nomes)\n",
    "print(idades)\n",
    "\n",
    "nomes.pop(3)\n",
    "idades.pop(2)\n",
    "\n",
    "print(nomes)\n",
    "print(idades)"
   ]
  },
  {
   "attachments": {},
   "cell_type": "markdown",
   "metadata": {},
   "source": [
    "19) Informe um nome e uma idadade existente nas listas “nome” e “idade” e remova esses \n",
    "elementos dessas listas."
   ]
  },
  {
   "cell_type": "code",
   "execution_count": null,
   "metadata": {},
   "outputs": [],
   "source": [
    "nome = input(\"Nome: \")\n",
    "nomes.remove(nome)\n",
    "\n",
    "idade = input(\"Idade: \")\n",
    "idades.remove(idade)"
   ]
  },
  {
   "attachments": {},
   "cell_type": "markdown",
   "metadata": {},
   "source": [
    "20) Coloque em ordem crescente as duas listas (nome/idade). Imprima as listas"
   ]
  },
  {
   "cell_type": "code",
   "execution_count": 45,
   "metadata": {},
   "outputs": [
    {
     "name": "stdout",
     "output_type": "stream",
     "text": [
      "['Eduardo', 'Gianluca', 'Henrique', 'Raphael']\n",
      "[6, 8, 9, 10, 14, 15, 18, 20, 25]\n"
     ]
    }
   ],
   "source": [
    "nomes.sort()\n",
    "idades.sort()\n",
    "\n",
    "print(nomes)\n",
    "print(idades)"
   ]
  },
  {
   "attachments": {},
   "cell_type": "markdown",
   "metadata": {},
   "source": [
    "21) Imprima as duas lista (nome/idade) em ordem reversa."
   ]
  },
  {
   "cell_type": "code",
   "execution_count": 48,
   "metadata": {},
   "outputs": [
    {
     "name": "stdout",
     "output_type": "stream",
     "text": [
      "['Raphael', 'Henrique', 'Gianluca', 'Eduardo']\n",
      "[25, 20, 18, 15, 14, 10, 9, 8, 6]\n"
     ]
    }
   ],
   "source": [
    "nomes.reverse()\n",
    "idades.reverse()\n",
    "\n",
    "print(nomes)\n",
    "print(idades)"
   ]
  },
  {
   "attachments": {},
   "cell_type": "markdown",
   "metadata": {},
   "source": [
    "\n",
    "22) Verifique quantas vezes um determinado número inteiro aparece na lista idade"
   ]
  },
  {
   "cell_type": "code",
   "execution_count": 51,
   "metadata": {},
   "outputs": [
    {
     "name": "stdout",
     "output_type": "stream",
     "text": [
      "1\n"
     ]
    }
   ],
   "source": [
    "print(idades.count(18))"
   ]
  }
 ],
 "metadata": {
  "kernelspec": {
   "display_name": "Python 3",
   "language": "python",
   "name": "python3"
  },
  "language_info": {
   "codemirror_mode": {
    "name": "ipython",
    "version": 3
   },
   "file_extension": ".py",
   "mimetype": "text/x-python",
   "name": "python",
   "nbconvert_exporter": "python",
   "pygments_lexer": "ipython3",
   "version": "3.11.2"
  },
  "orig_nbformat": 4
 },
 "nbformat": 4,
 "nbformat_minor": 2
}
