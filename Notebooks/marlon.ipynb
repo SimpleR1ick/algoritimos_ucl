{
 "cells": [
  {
   "cell_type": "code",
   "execution_count": 11,
   "metadata": {},
   "outputs": [
    {
     "name": "stdout",
     "output_type": "stream",
     "text": [
      "A:  [1 2 3 4 5]\n",
      "B:  [1 2 3 4 5]\n",
      "Cos similaridade:  1.0\n"
     ]
    }
   ],
   "source": [
    "import numpy as np\n",
    "from numpy.linalg import norm\n",
    "\n",
    "A = np.array([1, 2, 3, 4, 5])\n",
    "B = np.array([1, 2, 3, 4, 5])\n",
    "\n",
    "print(\"A: \", A)\n",
    "print(\"B: \", B)\n",
    "\n",
    "cosseno = np.dot(A, B) / (norm(A) * norm(B))\n",
    "print(\"Cos similaridade: \", round(cosseno, 2))"
   ]
  }
 ],
 "metadata": {
  "kernelspec": {
   "display_name": "Python 3",
   "language": "python",
   "name": "python3"
  },
  "language_info": {
   "codemirror_mode": {
    "name": "ipython",
    "version": 3
   },
   "file_extension": ".py",
   "mimetype": "text/x-python",
   "name": "python",
   "nbconvert_exporter": "python",
   "pygments_lexer": "ipython3",
   "version": "3.11.2"
  },
  "orig_nbformat": 4
 },
 "nbformat": 4,
 "nbformat_minor": 2
}
